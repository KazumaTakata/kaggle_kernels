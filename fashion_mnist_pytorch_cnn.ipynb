{
  "cells": [
    {
      "metadata": {
        "_uuid": "8f2839f25d086af736a60e9eeb907d3b93b6e0e5",
        "_cell_guid": "b1076dfc-b9ad-4769-8c92-a6c4dae69d19",
        "trusted": true
      },
      "cell_type": "code",
      "source": "# This Python 3 environment comes with many helpful analytics libraries installed\n# It is defined by the kaggle/python docker image: https://github.com/kaggle/docker-python\n# For example, here's several helpful packages to load in \n\nimport numpy as np # linear algebra\nimport pandas as pd # data processing, CSV file I/O (e.g. pd.read_csv)\n\n# Input data files are available in the \"../input/\" directory.\n# For example, running this (by clicking run or pressing Shift+Enter) will list the files in the input directory\n\nimport os\nprint(os.listdir(\"../input\"))\n\n# Any results you write to the current directory are saved as output.",
      "execution_count": null,
      "outputs": []
    },
    {
      "metadata": {
        "trusted": true,
        "_uuid": "1817685046afcce5d076d6e73f700b88d13af71e"
      },
      "cell_type": "code",
      "source": "from math import *\nfrom matplotlib.pyplot import imshow\n%matplotlib inline",
      "execution_count": null,
      "outputs": []
    },
    {
      "metadata": {
        "trusted": true,
        "_uuid": "8be997c98d81520775aa1d91e72c06527e09777b"
      },
      "cell_type": "code",
      "source": "import matplotlib.pyplot as plt",
      "execution_count": null,
      "outputs": []
    },
    {
      "metadata": {
        "_cell_guid": "79c7e3d0-c299-4dcb-8224-4455121ee9b0",
        "_uuid": "d629ff2d2480ee46fbb7e2d37f6b5fab8052498a",
        "trusted": true
      },
      "cell_type": "code",
      "source": "file_path = \"../input/fashion-mnist_train.csv\"\ntraindata  = pd.read_csv(file_path)\nbatch_size = 10\ndata_length =  len(traindata)\nbatch_num = floor( data_length/batch_size )",
      "execution_count": null,
      "outputs": []
    },
    {
      "metadata": {
        "trusted": true,
        "_uuid": "d72827307293248f7eb850f57a1bc731a717fb0c"
      },
      "cell_type": "code",
      "source": "test_file_path = \"../input/fashion-mnist_test.csv\"\ntestdata  = pd.read_csv(test_file_path)\ntest_batch_size = 10\ntest_data_length =  len(testdata)\ntest_batch_num = floor( test_data_length/test_batch_size )",
      "execution_count": null,
      "outputs": []
    },
    {
      "metadata": {
        "trusted": true,
        "_uuid": "54c7092f10555cdb30afad630a14412e1d74e468"
      },
      "cell_type": "code",
      "source": "index = 0\ntrain_x = traindata[ traindata.columns[1:] ].iloc[index * batch_size: (index + 1)* batch_size].values",
      "execution_count": null,
      "outputs": []
    },
    {
      "metadata": {
        "trusted": true,
        "_uuid": "54ec6d7aaf4b5989a231bcac66e0e54fdb67de2e"
      },
      "cell_type": "code",
      "source": "sample_x = train_x.reshape(10, 28, 28)[5]\nimshow(sample_x, cmap='gray')",
      "execution_count": null,
      "outputs": []
    },
    {
      "metadata": {
        "trusted": true,
        "_uuid": "99a01197304dcd030accb4219e10f26090fa6690"
      },
      "cell_type": "code",
      "source": "def getData(index):\n    train_y = traindata[ traindata.columns[0] ].iloc[index * batch_size: (index + 1)* batch_size].values\n    train_x = traindata[ traindata.columns[1:] ].iloc[index * batch_size: (index + 1)* batch_size].values\n    train_x_s =  np.reshape( train_x, ( batch_size, 1, 28, 28 ) )\n    tensor_y = torch.from_numpy(train_y)\n    tensor_x = torch.from_numpy(train_x_s).float()\n    return tensor_x, tensor_y",
      "execution_count": null,
      "outputs": []
    },
    {
      "metadata": {
        "trusted": true,
        "_uuid": "4d1555cd1c11c6903b9a504fbf0da1653e5b37b1"
      },
      "cell_type": "code",
      "source": "def gettestData(index):\n    test_y = testdata[ testdata.columns[0] ].iloc[index * test_batch_size: (index + 1)* test_batch_size].values\n    test_x = testdata[ testdata.columns[1:] ].iloc[index * test_batch_size: (index + 1)* test_batch_size].values\n    test_x_s =  np.reshape( test_x, ( test_batch_size, 1, 28, 28 ) )\n    tensor_y = torch.from_numpy(test_y)\n    tensor_x = torch.from_numpy(test_x_s).float()\n    return tensor_x, tensor_y",
      "execution_count": null,
      "outputs": []
    },
    {
      "metadata": {
        "trusted": true,
        "_uuid": "7a5eaba996f11c68bb0fb713ed4bfcc70fb27f69"
      },
      "cell_type": "code",
      "source": "import torch\nimport torch.nn as nn\nimport torch.nn.functional as F\n\n\nclass Net(nn.Module):\n\n    def __init__(self):\n        super(Net, self).__init__()\n        # 1 input image channel, 6 output channels, 5x5 square convolution\n        # kernel\n        self.conv1 = nn.Conv2d(1, 6, 5)\n        self.conv2 = nn.Conv2d(6, 16, 5)\n        # an affine operation: y = Wx + b\n        self.fc1 = nn.Linear(256, 120)\n        self.fc2 = nn.Linear(120, 84)\n        self.fc3 = nn.Linear(84, 10)\n\n    def forward(self, x):\n        # Max pooling over a (2, 2) window\n        x = F.max_pool2d(F.relu(self.conv1(x)), (2, 2))\n        # If the size is a square you can only specify a single number\n        x = F.max_pool2d(F.relu(self.conv2(x)), 2)\n        x = x.view(-1, self.num_flat_features(x))\n        x = F.relu(self.fc1(x))\n        x = F.relu(self.fc2(x))\n        x = self.fc3(x)\n        return x\n\n    def num_flat_features(self, x):\n        size = x.size()[1:]  # all dimensions except the batch dimension\n        num_features = 1\n        for s in size:\n            num_features *= s\n        return num_features\n\n\nnet = Net()\nprint(net)",
      "execution_count": null,
      "outputs": []
    },
    {
      "metadata": {
        "trusted": true,
        "_uuid": "7218bb879953db61adb7bc24d6e77aedf831f8b4"
      },
      "cell_type": "code",
      "source": "import torch.optim as optim\n\ncriterion = nn.CrossEntropyLoss()\noptimizer = optim.SGD(net.parameters(), lr=0.001, momentum=0.9)",
      "execution_count": null,
      "outputs": []
    },
    {
      "metadata": {
        "trusted": true,
        "_uuid": "083dbabfc846e6766c8de8300c82b3af1d3f394a"
      },
      "cell_type": "code",
      "source": "lossdata = ([],[])",
      "execution_count": null,
      "outputs": []
    },
    {
      "metadata": {
        "trusted": true,
        "_uuid": "c62acf382fa8c7d4a9e6f8604661a941531ba686"
      },
      "cell_type": "code",
      "source": "for index in range(10):\n    optimizer.zero_grad()\n    train_x, train_y = getData(index)\n    output = net.forward(train_x)\n    loss = criterion(output, train_y)\n    lossdata[0].append(index)\n    lossdata[1].append(loss)\n    loss.backward()\n    optimizer.step()\n    print( \"loss at {}: {}\".format( index ,loss) )",
      "execution_count": null,
      "outputs": []
    },
    {
      "metadata": {
        "trusted": true,
        "_uuid": "26eb0e3d39a4d70e6a6218e63dc35bdbda75817b"
      },
      "cell_type": "code",
      "source": "line,  = plt.plot(lossdata[0], lossdata[1], \"-\", linewidth=2)",
      "execution_count": null,
      "outputs": []
    },
    {
      "metadata": {
        "trusted": true,
        "_uuid": "1690b0255ee1102273b6b1060f52c1dc1a30337f"
      },
      "cell_type": "code",
      "source": "cumCorrect = 0\nfor index in range(10):\n    test_x, test_y = gettestData(index)\n    output = net.forward(test_x)\n    argmax = torch.argmax(output, dim=1)\n    correctNum = (argmax == test_y).sum().item()\n    cumCorrect += correctNum\n    \n    print( \"{} th correct {} percent \".format(index, correctNum/10*100) )",
      "execution_count": null,
      "outputs": []
    },
    {
      "metadata": {
        "trusted": true,
        "_uuid": "a033151bd98c4a58dde6428822fc9b7dd216daed"
      },
      "cell_type": "code",
      "source": "print(\"test accuracy: {}\".format(cumCorrect/10000 * 100) )",
      "execution_count": null,
      "outputs": []
    },
    {
      "metadata": {
        "trusted": true,
        "_uuid": "bbb2350adf77dbada6574e0dc887f41f7b1b94d1"
      },
      "cell_type": "code",
      "source": "",
      "execution_count": null,
      "outputs": []
    }
  ],
  "metadata": {
    "kernelspec": {
      "display_name": "Python 3",
      "language": "python",
      "name": "python3"
    },
    "language_info": {
      "name": "python",
      "version": "3.6.6",
      "mimetype": "text/x-python",
      "codemirror_mode": {
        "name": "ipython",
        "version": 3
      },
      "pygments_lexer": "ipython3",
      "nbconvert_exporter": "python",
      "file_extension": ".py"
    }
  },
  "nbformat": 4,
  "nbformat_minor": 1
}