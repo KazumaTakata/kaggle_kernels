{
  "cells": [
    {
      "metadata": {
        "_uuid": "8f2839f25d086af736a60e9eeb907d3b93b6e0e5",
        "_cell_guid": "b1076dfc-b9ad-4769-8c92-a6c4dae69d19",
        "trusted": true
      },
      "cell_type": "code",
      "source": "# This Python 3 environment comes with many helpful analytics libraries installed\n# It is defined by the kaggle/python docker image: https://github.com/kaggle/docker-python\n# For example, here's several helpful packages to load in \n\nimport numpy as np # linear algebra\nimport pandas as pd # data processing, CSV file I/O (e.g. pd.read_csv)\n\n# Input data files are available in the \"../input/\" directory.\n# For example, running this (by clicking run or pressing Shift+Enter) will list the files in the input directory\n\nimport os\nprint(os.listdir(\"../input\"))\n\n# Any results you write to the current directory are saved as output.",
      "execution_count": 59,
      "outputs": [
        {
          "output_type": "stream",
          "text": "[]\n",
          "name": "stdout"
        }
      ]
    },
    {
      "metadata": {
        "_cell_guid": "79c7e3d0-c299-4dcb-8224-4455121ee9b0",
        "_uuid": "d629ff2d2480ee46fbb7e2d37f6b5fab8052498a",
        "trusted": true
      },
      "cell_type": "code",
      "source": "training_data = [\n                 [ \"Green\", 3, \"Apple\" ],\n                 [\"Yellow\", 3, \"Apple\"],\n                 [\"Red\" ,1 , \"Grape\"], \n                 [\"Red\", 1, \"Grape\"] \n                ]",
      "execution_count": 60,
      "outputs": []
    },
    {
      "metadata": {
        "trusted": true,
        "_uuid": "acecacc6833ebec9865bfe0aa6e6882546c83d11"
      },
      "cell_type": "code",
      "source": "training_data",
      "execution_count": 61,
      "outputs": [
        {
          "output_type": "execute_result",
          "execution_count": 61,
          "data": {
            "text/plain": "[['Green', 3, 'Apple'],\n ['Yellow', 3, 'Apple'],\n ['Red', 1, 'Grape'],\n ['Red', 1, 'Grape']]"
          },
          "metadata": {}
        }
      ]
    },
    {
      "metadata": {
        "trusted": true,
        "_uuid": "7e66248844088e5e2bd24c75101144d6b919db38"
      },
      "cell_type": "code",
      "source": "header = [ \"color\", \"diameter\", \"label\"]",
      "execution_count": 62,
      "outputs": []
    },
    {
      "metadata": {
        "trusted": true,
        "_uuid": "9f3a0bad6bc76f8a75dbf7e74bf8c4ad18eb4670"
      },
      "cell_type": "code",
      "source": "def unique_vals(rows, col):\n    return set( [row[col] for row in rows ] )",
      "execution_count": 63,
      "outputs": []
    },
    {
      "metadata": {
        "trusted": true,
        "_uuid": "c2e85ee257108b8e95f87fa436b0b531064985d1"
      },
      "cell_type": "code",
      "source": "unique_vals(training_data, 2)",
      "execution_count": 64,
      "outputs": [
        {
          "output_type": "execute_result",
          "execution_count": 64,
          "data": {
            "text/plain": "{'Apple', 'Grape'}"
          },
          "metadata": {}
        }
      ]
    },
    {
      "metadata": {
        "trusted": true,
        "_uuid": "7bc04df5f8232c359e47588644a443865bb8d207"
      },
      "cell_type": "code",
      "source": "def is_numeric(value):\n    return isinstance( value, int ) or isinstance( value, float )",
      "execution_count": 65,
      "outputs": []
    },
    {
      "metadata": {
        "trusted": true,
        "_uuid": "0c1ef60bcb6fa7a7d005f49b9eb8138621caabc8"
      },
      "cell_type": "code",
      "source": "class Question:\n    \n    def __init__(self, column, value):\n        self.column = column\n        self.value = value\n        \n        \n    def match(self, example):\n        \n        val = example[self.column]\n        if is_numeric(val):\n            return val >= self.value\n        else:\n            return val == self.value\n        \n    def __repr__(self):\n        \n        condition =  \"==\"\n        if is_numeric(self.value):\n            condition = \">=\"\n        return \"Is {} {} {}\".format( header[self.column], condition, str(self.value))",
      "execution_count": 66,
      "outputs": []
    },
    {
      "metadata": {
        "trusted": true,
        "_uuid": "2b9fd93b61b47a160b4b08fe9b0cee63b2b56584"
      },
      "cell_type": "code",
      "source": "Question( 0, \"GERR\" )",
      "execution_count": 67,
      "outputs": [
        {
          "output_type": "execute_result",
          "execution_count": 67,
          "data": {
            "text/plain": "Is color == GERR"
          },
          "metadata": {}
        }
      ]
    },
    {
      "metadata": {
        "trusted": true,
        "_uuid": "46a8e3eb1f8c837011ab0fbc361f893c2ecdc004"
      },
      "cell_type": "code",
      "source": "example = training_data[0]",
      "execution_count": 68,
      "outputs": []
    },
    {
      "metadata": {
        "trusted": true,
        "_uuid": "4f057a34af9b71911beb9098bd8bda4674b6bd34"
      },
      "cell_type": "code",
      "source": "example",
      "execution_count": 69,
      "outputs": [
        {
          "output_type": "execute_result",
          "execution_count": 69,
          "data": {
            "text/plain": "['Green', 3, 'Apple']"
          },
          "metadata": {}
        }
      ]
    },
    {
      "metadata": {
        "trusted": true,
        "_uuid": "6b4fed2c8bd71ef3cd412e2459dc787a40040427"
      },
      "cell_type": "code",
      "source": "q = Question( 0, \"Green\" )",
      "execution_count": 70,
      "outputs": []
    },
    {
      "metadata": {
        "trusted": true,
        "_uuid": "318943664504d1482843522ed589d0b0e5edf0cb"
      },
      "cell_type": "code",
      "source": "q.match( example )",
      "execution_count": 71,
      "outputs": [
        {
          "output_type": "execute_result",
          "execution_count": 71,
          "data": {
            "text/plain": "True"
          },
          "metadata": {}
        }
      ]
    },
    {
      "metadata": {
        "trusted": true,
        "_uuid": "cb95bfa59ad738abbc4fd23960da96082492d3bc"
      },
      "cell_type": "code",
      "source": "def partition(rows, question):\n    \n    true_rows, false_rows = [], []\n    for row in rows:\n        if question.match(row):\n            true_rows.append(row)\n        else:\n            false_rows.append(row)\n    return true_rows, false_rows",
      "execution_count": 72,
      "outputs": []
    },
    {
      "metadata": {
        "trusted": true,
        "_uuid": "63a18b8c6819470a637d4b6d45673c93e674a68b"
      },
      "cell_type": "code",
      "source": "\npartition( training_data, Question(0, \"Red\") )",
      "execution_count": 73,
      "outputs": [
        {
          "output_type": "execute_result",
          "execution_count": 73,
          "data": {
            "text/plain": "([['Red', 1, 'Grape'], ['Red', 1, 'Grape']],\n [['Green', 3, 'Apple'], ['Yellow', 3, 'Apple']])"
          },
          "metadata": {}
        }
      ]
    },
    {
      "metadata": {
        "trusted": true,
        "_uuid": "a3613bb7830ac8ec4a3f985bd19f4f1027dcb498"
      },
      "cell_type": "code",
      "source": "Question(0, \"Red\").match(training_data[3])",
      "execution_count": 74,
      "outputs": [
        {
          "output_type": "execute_result",
          "execution_count": 74,
          "data": {
            "text/plain": "True"
          },
          "metadata": {}
        }
      ]
    },
    {
      "metadata": {
        "trusted": true,
        "_uuid": "36f4ad53f8b581b0c9af48bf0f2612a0dc1cf348"
      },
      "cell_type": "code",
      "source": "def class_counts(rows):\n    counts = {}\n    for row in rows:\n        label = row[-1]\n        if label not in counts:\n            counts[label] = 0\n        counts[label] += 1\n    return counts",
      "execution_count": 75,
      "outputs": []
    },
    {
      "metadata": {
        "trusted": true,
        "_uuid": "ee9f093cca61d0e0d7b22f26121d1c7f6fc92f46"
      },
      "cell_type": "code",
      "source": "class_counts(training_data)",
      "execution_count": 76,
      "outputs": [
        {
          "output_type": "execute_result",
          "execution_count": 76,
          "data": {
            "text/plain": "{'Apple': 2, 'Grape': 2}"
          },
          "metadata": {}
        }
      ]
    },
    {
      "metadata": {
        "trusted": true,
        "_uuid": "0e4e0d2eed4184703f633e4029fc3a3d133813b2"
      },
      "cell_type": "code",
      "source": "def gini(rows):\n    \n    counts = class_counts(rows)\n    impurity = 1\n    for lbl in counts:\n        prob_of_lbl = counts[lbl] / float(len(rows))\n        impurity -= prob_of_lbl**2\n    return impurity",
      "execution_count": 77,
      "outputs": []
    },
    {
      "metadata": {
        "trusted": true,
        "_uuid": "63a409ba50b4c85ba305be6c54675f7ae8ae8af4"
      },
      "cell_type": "code",
      "source": "gini( training_data )",
      "execution_count": 78,
      "outputs": [
        {
          "output_type": "execute_result",
          "execution_count": 78,
          "data": {
            "text/plain": "0.5"
          },
          "metadata": {}
        }
      ]
    },
    {
      "metadata": {
        "trusted": true,
        "_uuid": "a9aab58bbca680835188f841993c6ed0935f5881"
      },
      "cell_type": "code",
      "source": "def info_gain( left, right, current_uncertainty ):\n    \n    p = float( len(left) )/ ( len(left)  + len(right) )\n    return current_uncertainty - p * gini(left) - ( 1 - p ) * gini( right )",
      "execution_count": 79,
      "outputs": []
    },
    {
      "metadata": {
        "trusted": true,
        "_uuid": "fdee0924097b5c2ce7dd465a44c8bb3554ad95bc"
      },
      "cell_type": "code",
      "source": "current_uncertainty = gini( training_data )",
      "execution_count": 80,
      "outputs": []
    },
    {
      "metadata": {
        "trusted": true,
        "_uuid": "8d2447939691fff914429cd809da8655e2210251"
      },
      "cell_type": "code",
      "source": "current_uncertainty",
      "execution_count": 81,
      "outputs": [
        {
          "output_type": "execute_result",
          "execution_count": 81,
          "data": {
            "text/plain": "0.5"
          },
          "metadata": {}
        }
      ]
    },
    {
      "metadata": {
        "trusted": true,
        "_uuid": "0566a18b53e2d3ca4e4cc89974823647d85d2d74"
      },
      "cell_type": "code",
      "source": "true_rows, false_rows = partition( training_data, Question(0, \"Green\") )",
      "execution_count": 82,
      "outputs": []
    },
    {
      "metadata": {
        "trusted": true,
        "_uuid": "947900d87b57a95f2349d4d619f8ad63469304c6"
      },
      "cell_type": "code",
      "source": "info_gain( true_rows, false_rows, current_uncertainty )",
      "execution_count": 83,
      "outputs": [
        {
          "output_type": "execute_result",
          "execution_count": 83,
          "data": {
            "text/plain": "0.16666666666666669"
          },
          "metadata": {}
        }
      ]
    },
    {
      "metadata": {
        "trusted": true,
        "_uuid": "a1324c29922b1ccab0a649b73a431221e1f28ac1"
      },
      "cell_type": "code",
      "source": "true_rows, false_rows = partition( training_data, Question(0, \"Red\") )",
      "execution_count": 84,
      "outputs": []
    },
    {
      "metadata": {
        "trusted": true,
        "_uuid": "dc7be6135c749f3c6a0d79c53fd21f0ee52a44aa"
      },
      "cell_type": "code",
      "source": "info_gain( true_rows, false_rows, current_uncertainty )",
      "execution_count": 85,
      "outputs": [
        {
          "output_type": "execute_result",
          "execution_count": 85,
          "data": {
            "text/plain": "0.5"
          },
          "metadata": {}
        }
      ]
    },
    {
      "metadata": {
        "trusted": true,
        "_uuid": "2c9276607b925a7b64d97712e0479724b73ee15c"
      },
      "cell_type": "code",
      "source": "def find_best_split(rows):\n    \"\"\"Find the best question to ask by iterating over every feature / value\n    and calculating the information gain.\"\"\"\n    best_gain = 0  # keep track of the best information gain\n    best_question = None  # keep train of the feature / value that produced it\n    current_uncertainty = gini(rows)\n    n_features = len(rows[0]) - 1  # number of columns\n\n    for col in range(n_features):  # for each feature\n\n        values = set([row[col] for row in rows])  # unique values in the column\n\n        for val in values:  # for each value\n\n            question = Question(col, val)\n\n            # try splitting the dataset\n            true_rows, false_rows = partition(rows, question)\n\n            # Skip this split if it doesn't divide the\n            # dataset.\n            if len(true_rows) == 0 or len(false_rows) == 0:\n                continue\n\n            # Calculate the information gain from this split\n            gain = info_gain(true_rows, false_rows, current_uncertainty)\n\n            # You actually can use '>' instead of '>=' here\n            # but I wanted the tree to look a certain way for our\n            # toy dataset.\n            if gain >= best_gain:\n                best_gain, best_question = gain, question\n\n    return best_gain, best_question",
      "execution_count": 88,
      "outputs": []
    },
    {
      "metadata": {
        "trusted": true,
        "_uuid": "4fc5cb1add1e2f22495aeb6db5f638421e639468"
      },
      "cell_type": "code",
      "source": "find_best_split(training_data)",
      "execution_count": 97,
      "outputs": [
        {
          "output_type": "execute_result",
          "execution_count": 97,
          "data": {
            "text/plain": "(0.5, Is diameter >= 3)"
          },
          "metadata": {}
        }
      ]
    },
    {
      "metadata": {
        "trusted": true,
        "_uuid": "261167a21d6b90a164b3312b99fd1e7d5d6f709e"
      },
      "cell_type": "code",
      "source": "class Leaf:\n    \n    def __init__(self, rows):\n        self.predictions = class_counts(rows)",
      "execution_count": 90,
      "outputs": []
    },
    {
      "metadata": {
        "trusted": true,
        "_uuid": "2e385526eb76cf5700bb62a0044aa828baee9381"
      },
      "cell_type": "code",
      "source": "class Decision_node:\n    def __init__(self, question, true_branch, false_branch):\n        self.question = question\n        self.true_branch = true_branch\n        self.false_branch = false_branch",
      "execution_count": 91,
      "outputs": []
    },
    {
      "metadata": {
        "trusted": true,
        "_uuid": "335df08297af83d69478957744ef57c42d681cf5"
      },
      "cell_type": "code",
      "source": "def build_tree(rows):\n    from IPython.core.debugger import Pdb; Pdb().set_trace()\n    gain, question = find_best_split(rows)\n    \n    if gain == 0:\n        return Leaf(rows)\n    \n    true_rows, false_rows = partition(rows, question)\n    \n    true_branch = build_tree(true_rows)\n    \n    false_branch = build_tree(false_rows)\n    \n    \n    return Decision_node(question, true_branch, false_branch)\n    ",
      "execution_count": 98,
      "outputs": []
    },
    {
      "metadata": {
        "trusted": true,
        "_uuid": "80bbf2f34a38cd4af653c49c054e3801a9d942ed"
      },
      "cell_type": "code",
      "source": "def print_tree(node, spacing=\"\"):\n    \n    if isinstance(node, Leaf):\n        print(spacing + \"Predict\", node.predictions)\n        return\n    \n    print( spacing + str(node.question) )\n    \n    print( spacing + '--> True:' )\n    print_tree( node.true_branch, spacing + \" \")\n    \n    print( spacing + \"--> False: \" )\n    print_tree( node.false_branch, spacing + \" \")\n    \n    ",
      "execution_count": 101,
      "outputs": []
    },
    {
      "metadata": {
        "trusted": true,
        "_uuid": "9eaadc87eebc2a8983705652af86dd89ba76c2d3"
      },
      "cell_type": "code",
      "source": "my_tree = build_tree(  training_data )",
      "execution_count": 99,
      "outputs": [
        {
          "output_type": "stream",
          "text": "> \u001b[0;32m<ipython-input-98-b1e8666dae0c>\u001b[0m(3)\u001b[0;36mbuild_tree\u001b[0;34m()\u001b[0m\n\u001b[0;32m      1 \u001b[0;31m\u001b[0;32mdef\u001b[0m \u001b[0mbuild_tree\u001b[0m\u001b[0;34m(\u001b[0m\u001b[0mrows\u001b[0m\u001b[0;34m)\u001b[0m\u001b[0;34m:\u001b[0m\u001b[0;34m\u001b[0m\u001b[0m\n\u001b[0m\u001b[0;32m      2 \u001b[0;31m    \u001b[0;32mfrom\u001b[0m \u001b[0mIPython\u001b[0m\u001b[0;34m.\u001b[0m\u001b[0mcore\u001b[0m\u001b[0;34m.\u001b[0m\u001b[0mdebugger\u001b[0m \u001b[0;32mimport\u001b[0m \u001b[0mPdb\u001b[0m\u001b[0;34m;\u001b[0m \u001b[0mPdb\u001b[0m\u001b[0;34m(\u001b[0m\u001b[0;34m)\u001b[0m\u001b[0;34m.\u001b[0m\u001b[0mset_trace\u001b[0m\u001b[0;34m(\u001b[0m\u001b[0;34m)\u001b[0m\u001b[0;34m\u001b[0m\u001b[0m\n\u001b[0m\u001b[0;32m----> 3 \u001b[0;31m    \u001b[0mgain\u001b[0m\u001b[0;34m,\u001b[0m \u001b[0mquestion\u001b[0m \u001b[0;34m=\u001b[0m \u001b[0mfind_best_split\u001b[0m\u001b[0;34m(\u001b[0m\u001b[0mrows\u001b[0m\u001b[0;34m)\u001b[0m\u001b[0;34m\u001b[0m\u001b[0m\n\u001b[0m\u001b[0;32m      4 \u001b[0;31m\u001b[0;34m\u001b[0m\u001b[0m\n\u001b[0m\u001b[0;32m      5 \u001b[0;31m    \u001b[0;32mif\u001b[0m \u001b[0mgain\u001b[0m \u001b[0;34m==\u001b[0m \u001b[0;36m0\u001b[0m\u001b[0;34m:\u001b[0m\u001b[0;34m\u001b[0m\u001b[0m\n\u001b[0m\nipdb> rows\n[['Green', 3, 'Apple'], ['Yellow', 3, 'Apple'], ['Red', 1, 'Grape'], ['Red', 1, 'Grape']]\nipdb> n\n> \u001b[0;32m<ipython-input-98-b1e8666dae0c>\u001b[0m(5)\u001b[0;36mbuild_tree\u001b[0;34m()\u001b[0m\n\u001b[0;32m      3 \u001b[0;31m    \u001b[0mgain\u001b[0m\u001b[0;34m,\u001b[0m \u001b[0mquestion\u001b[0m \u001b[0;34m=\u001b[0m \u001b[0mfind_best_split\u001b[0m\u001b[0;34m(\u001b[0m\u001b[0mrows\u001b[0m\u001b[0;34m)\u001b[0m\u001b[0;34m\u001b[0m\u001b[0m\n\u001b[0m\u001b[0;32m      4 \u001b[0;31m\u001b[0;34m\u001b[0m\u001b[0m\n\u001b[0m\u001b[0;32m----> 5 \u001b[0;31m    \u001b[0;32mif\u001b[0m \u001b[0mgain\u001b[0m \u001b[0;34m==\u001b[0m \u001b[0;36m0\u001b[0m\u001b[0;34m:\u001b[0m\u001b[0;34m\u001b[0m\u001b[0m\n\u001b[0m\u001b[0;32m      6 \u001b[0;31m        \u001b[0;32mreturn\u001b[0m \u001b[0mLeaf\u001b[0m\u001b[0;34m(\u001b[0m\u001b[0mrows\u001b[0m\u001b[0;34m)\u001b[0m\u001b[0;34m\u001b[0m\u001b[0m\n\u001b[0m\u001b[0;32m      7 \u001b[0;31m\u001b[0;34m\u001b[0m\u001b[0m\n\u001b[0m\nipdb> gain\n0.5\nipdb> question\nIs diameter >= 3\nipdb> n\n> \u001b[0;32m<ipython-input-98-b1e8666dae0c>\u001b[0m(8)\u001b[0;36mbuild_tree\u001b[0;34m()\u001b[0m\n\u001b[0;32m      6 \u001b[0;31m        \u001b[0;32mreturn\u001b[0m \u001b[0mLeaf\u001b[0m\u001b[0;34m(\u001b[0m\u001b[0mrows\u001b[0m\u001b[0;34m)\u001b[0m\u001b[0;34m\u001b[0m\u001b[0m\n\u001b[0m\u001b[0;32m      7 \u001b[0;31m\u001b[0;34m\u001b[0m\u001b[0m\n\u001b[0m\u001b[0;32m----> 8 \u001b[0;31m    \u001b[0mtrue_rows\u001b[0m\u001b[0;34m,\u001b[0m \u001b[0mfalse_rows\u001b[0m \u001b[0;34m=\u001b[0m \u001b[0mpartition\u001b[0m\u001b[0;34m(\u001b[0m\u001b[0mrows\u001b[0m\u001b[0;34m,\u001b[0m \u001b[0mquestion\u001b[0m\u001b[0;34m)\u001b[0m\u001b[0;34m\u001b[0m\u001b[0m\n\u001b[0m\u001b[0;32m      9 \u001b[0;31m\u001b[0;34m\u001b[0m\u001b[0m\n\u001b[0m\u001b[0;32m     10 \u001b[0;31m    \u001b[0mtrue_branch\u001b[0m \u001b[0;34m=\u001b[0m \u001b[0mbuild_tree\u001b[0m\u001b[0;34m(\u001b[0m\u001b[0mtrue_rows\u001b[0m\u001b[0;34m)\u001b[0m\u001b[0;34m\u001b[0m\u001b[0m\n\u001b[0m\nipdb> n\n> \u001b[0;32m<ipython-input-98-b1e8666dae0c>\u001b[0m(10)\u001b[0;36mbuild_tree\u001b[0;34m()\u001b[0m\n\u001b[0;32m      8 \u001b[0;31m    \u001b[0mtrue_rows\u001b[0m\u001b[0;34m,\u001b[0m \u001b[0mfalse_rows\u001b[0m \u001b[0;34m=\u001b[0m \u001b[0mpartition\u001b[0m\u001b[0;34m(\u001b[0m\u001b[0mrows\u001b[0m\u001b[0;34m,\u001b[0m \u001b[0mquestion\u001b[0m\u001b[0;34m)\u001b[0m\u001b[0;34m\u001b[0m\u001b[0m\n\u001b[0m\u001b[0;32m      9 \u001b[0;31m\u001b[0;34m\u001b[0m\u001b[0m\n\u001b[0m\u001b[0;32m---> 10 \u001b[0;31m    \u001b[0mtrue_branch\u001b[0m \u001b[0;34m=\u001b[0m \u001b[0mbuild_tree\u001b[0m\u001b[0;34m(\u001b[0m\u001b[0mtrue_rows\u001b[0m\u001b[0;34m)\u001b[0m\u001b[0;34m\u001b[0m\u001b[0m\n\u001b[0m\u001b[0;32m     11 \u001b[0;31m\u001b[0;34m\u001b[0m\u001b[0m\n\u001b[0m\u001b[0;32m     12 \u001b[0;31m    \u001b[0mfalse_branch\u001b[0m \u001b[0;34m=\u001b[0m \u001b[0mbuild_tree\u001b[0m\u001b[0;34m(\u001b[0m\u001b[0mfalse_rows\u001b[0m\u001b[0;34m)\u001b[0m\u001b[0;34m\u001b[0m\u001b[0m\n\u001b[0m\nipdb> true_rows\n[['Green', 3, 'Apple'], ['Yellow', 3, 'Apple']]\nipdb> false_rows\n[['Red', 1, 'Grape'], ['Red', 1, 'Grape']]\nipdb> n\n> \u001b[0;32m<ipython-input-98-b1e8666dae0c>\u001b[0m(3)\u001b[0;36mbuild_tree\u001b[0;34m()\u001b[0m\n\u001b[0;32m      1 \u001b[0;31m\u001b[0;32mdef\u001b[0m \u001b[0mbuild_tree\u001b[0m\u001b[0;34m(\u001b[0m\u001b[0mrows\u001b[0m\u001b[0;34m)\u001b[0m\u001b[0;34m:\u001b[0m\u001b[0;34m\u001b[0m\u001b[0m\n\u001b[0m\u001b[0;32m      2 \u001b[0;31m    \u001b[0;32mfrom\u001b[0m \u001b[0mIPython\u001b[0m\u001b[0;34m.\u001b[0m\u001b[0mcore\u001b[0m\u001b[0;34m.\u001b[0m\u001b[0mdebugger\u001b[0m \u001b[0;32mimport\u001b[0m \u001b[0mPdb\u001b[0m\u001b[0;34m;\u001b[0m \u001b[0mPdb\u001b[0m\u001b[0;34m(\u001b[0m\u001b[0;34m)\u001b[0m\u001b[0;34m.\u001b[0m\u001b[0mset_trace\u001b[0m\u001b[0;34m(\u001b[0m\u001b[0;34m)\u001b[0m\u001b[0;34m\u001b[0m\u001b[0m\n\u001b[0m\u001b[0;32m----> 3 \u001b[0;31m    \u001b[0mgain\u001b[0m\u001b[0;34m,\u001b[0m \u001b[0mquestion\u001b[0m \u001b[0;34m=\u001b[0m \u001b[0mfind_best_split\u001b[0m\u001b[0;34m(\u001b[0m\u001b[0mrows\u001b[0m\u001b[0;34m)\u001b[0m\u001b[0;34m\u001b[0m\u001b[0m\n\u001b[0m\u001b[0;32m      4 \u001b[0;31m\u001b[0;34m\u001b[0m\u001b[0m\n\u001b[0m\u001b[0;32m      5 \u001b[0;31m    \u001b[0;32mif\u001b[0m \u001b[0mgain\u001b[0m \u001b[0;34m==\u001b[0m \u001b[0;36m0\u001b[0m\u001b[0;34m:\u001b[0m\u001b[0;34m\u001b[0m\u001b[0m\n\u001b[0m\nipdb> rows\n[['Green', 3, 'Apple'], ['Yellow', 3, 'Apple']]\nipdb> n\n> \u001b[0;32m<ipython-input-98-b1e8666dae0c>\u001b[0m(5)\u001b[0;36mbuild_tree\u001b[0;34m()\u001b[0m\n\u001b[0;32m      3 \u001b[0;31m    \u001b[0mgain\u001b[0m\u001b[0;34m,\u001b[0m \u001b[0mquestion\u001b[0m \u001b[0;34m=\u001b[0m \u001b[0mfind_best_split\u001b[0m\u001b[0;34m(\u001b[0m\u001b[0mrows\u001b[0m\u001b[0;34m)\u001b[0m\u001b[0;34m\u001b[0m\u001b[0m\n\u001b[0m\u001b[0;32m      4 \u001b[0;31m\u001b[0;34m\u001b[0m\u001b[0m\n\u001b[0m\u001b[0;32m----> 5 \u001b[0;31m    \u001b[0;32mif\u001b[0m \u001b[0mgain\u001b[0m \u001b[0;34m==\u001b[0m \u001b[0;36m0\u001b[0m\u001b[0;34m:\u001b[0m\u001b[0;34m\u001b[0m\u001b[0m\n\u001b[0m\u001b[0;32m      6 \u001b[0;31m        \u001b[0;32mreturn\u001b[0m \u001b[0mLeaf\u001b[0m\u001b[0;34m(\u001b[0m\u001b[0mrows\u001b[0m\u001b[0;34m)\u001b[0m\u001b[0;34m\u001b[0m\u001b[0m\n\u001b[0m\u001b[0;32m      7 \u001b[0;31m\u001b[0;34m\u001b[0m\u001b[0m\n\u001b[0m\nipdb> gain\n0.0\nipdb> n\n> \u001b[0;32m<ipython-input-98-b1e8666dae0c>\u001b[0m(6)\u001b[0;36mbuild_tree\u001b[0;34m()\u001b[0m\n\u001b[0;32m      4 \u001b[0;31m\u001b[0;34m\u001b[0m\u001b[0m\n\u001b[0m\u001b[0;32m      5 \u001b[0;31m    \u001b[0;32mif\u001b[0m \u001b[0mgain\u001b[0m \u001b[0;34m==\u001b[0m \u001b[0;36m0\u001b[0m\u001b[0;34m:\u001b[0m\u001b[0;34m\u001b[0m\u001b[0m\n\u001b[0m\u001b[0;32m----> 6 \u001b[0;31m        \u001b[0;32mreturn\u001b[0m \u001b[0mLeaf\u001b[0m\u001b[0;34m(\u001b[0m\u001b[0mrows\u001b[0m\u001b[0;34m)\u001b[0m\u001b[0;34m\u001b[0m\u001b[0m\n\u001b[0m\u001b[0;32m      7 \u001b[0;31m\u001b[0;34m\u001b[0m\u001b[0m\n\u001b[0m\u001b[0;32m      8 \u001b[0;31m    \u001b[0mtrue_rows\u001b[0m\u001b[0;34m,\u001b[0m \u001b[0mfalse_rows\u001b[0m \u001b[0;34m=\u001b[0m \u001b[0mpartition\u001b[0m\u001b[0;34m(\u001b[0m\u001b[0mrows\u001b[0m\u001b[0;34m,\u001b[0m \u001b[0mquestion\u001b[0m\u001b[0;34m)\u001b[0m\u001b[0;34m\u001b[0m\u001b[0m\n\u001b[0m\nipdb> n\n--Return--\n<__main__.Lea...x7f08f00e2550>\n> \u001b[0;32m<ipython-input-98-b1e8666dae0c>\u001b[0m(6)\u001b[0;36mbuild_tree\u001b[0;34m()\u001b[0m\n\u001b[0;32m      4 \u001b[0;31m\u001b[0;34m\u001b[0m\u001b[0m\n\u001b[0m\u001b[0;32m      5 \u001b[0;31m    \u001b[0;32mif\u001b[0m \u001b[0mgain\u001b[0m \u001b[0;34m==\u001b[0m \u001b[0;36m0\u001b[0m\u001b[0;34m:\u001b[0m\u001b[0;34m\u001b[0m\u001b[0m\n\u001b[0m\u001b[0;32m----> 6 \u001b[0;31m        \u001b[0;32mreturn\u001b[0m \u001b[0mLeaf\u001b[0m\u001b[0;34m(\u001b[0m\u001b[0mrows\u001b[0m\u001b[0;34m)\u001b[0m\u001b[0;34m\u001b[0m\u001b[0m\n\u001b[0m\u001b[0;32m      7 \u001b[0;31m\u001b[0;34m\u001b[0m\u001b[0m\n\u001b[0m\u001b[0;32m      8 \u001b[0;31m    \u001b[0mtrue_rows\u001b[0m\u001b[0;34m,\u001b[0m \u001b[0mfalse_rows\u001b[0m \u001b[0;34m=\u001b[0m \u001b[0mpartition\u001b[0m\u001b[0;34m(\u001b[0m\u001b[0mrows\u001b[0m\u001b[0;34m,\u001b[0m \u001b[0mquestion\u001b[0m\u001b[0;34m)\u001b[0m\u001b[0;34m\u001b[0m\u001b[0m\n\u001b[0m\nipdb> n\n> \u001b[0;32m<ipython-input-98-b1e8666dae0c>\u001b[0m(12)\u001b[0;36mbuild_tree\u001b[0;34m()\u001b[0m\n\u001b[0;32m     10 \u001b[0;31m    \u001b[0mtrue_branch\u001b[0m \u001b[0;34m=\u001b[0m \u001b[0mbuild_tree\u001b[0m\u001b[0;34m(\u001b[0m\u001b[0mtrue_rows\u001b[0m\u001b[0;34m)\u001b[0m\u001b[0;34m\u001b[0m\u001b[0m\n\u001b[0m\u001b[0;32m     11 \u001b[0;31m\u001b[0;34m\u001b[0m\u001b[0m\n\u001b[0m\u001b[0;32m---> 12 \u001b[0;31m    \u001b[0mfalse_branch\u001b[0m \u001b[0;34m=\u001b[0m \u001b[0mbuild_tree\u001b[0m\u001b[0;34m(\u001b[0m\u001b[0mfalse_rows\u001b[0m\u001b[0;34m)\u001b[0m\u001b[0;34m\u001b[0m\u001b[0m\n\u001b[0m\u001b[0;32m     13 \u001b[0;31m\u001b[0;34m\u001b[0m\u001b[0m\n\u001b[0m\u001b[0;32m     14 \u001b[0;31m\u001b[0;34m\u001b[0m\u001b[0m\n\u001b[0m\nipdb> true_branch\n<__main__.Leaf object at 0x7f08f00e2550>\nipdb> n\n> \u001b[0;32m<ipython-input-98-b1e8666dae0c>\u001b[0m(3)\u001b[0;36mbuild_tree\u001b[0;34m()\u001b[0m\n\u001b[0;32m      1 \u001b[0;31m\u001b[0;32mdef\u001b[0m \u001b[0mbuild_tree\u001b[0m\u001b[0;34m(\u001b[0m\u001b[0mrows\u001b[0m\u001b[0;34m)\u001b[0m\u001b[0;34m:\u001b[0m\u001b[0;34m\u001b[0m\u001b[0m\n\u001b[0m\u001b[0;32m      2 \u001b[0;31m    \u001b[0;32mfrom\u001b[0m \u001b[0mIPython\u001b[0m\u001b[0;34m.\u001b[0m\u001b[0mcore\u001b[0m\u001b[0;34m.\u001b[0m\u001b[0mdebugger\u001b[0m \u001b[0;32mimport\u001b[0m \u001b[0mPdb\u001b[0m\u001b[0;34m;\u001b[0m \u001b[0mPdb\u001b[0m\u001b[0;34m(\u001b[0m\u001b[0;34m)\u001b[0m\u001b[0;34m.\u001b[0m\u001b[0mset_trace\u001b[0m\u001b[0;34m(\u001b[0m\u001b[0;34m)\u001b[0m\u001b[0;34m\u001b[0m\u001b[0m\n\u001b[0m\u001b[0;32m----> 3 \u001b[0;31m    \u001b[0mgain\u001b[0m\u001b[0;34m,\u001b[0m \u001b[0mquestion\u001b[0m \u001b[0;34m=\u001b[0m \u001b[0mfind_best_split\u001b[0m\u001b[0;34m(\u001b[0m\u001b[0mrows\u001b[0m\u001b[0;34m)\u001b[0m\u001b[0;34m\u001b[0m\u001b[0m\n\u001b[0m\u001b[0;32m      4 \u001b[0;31m\u001b[0;34m\u001b[0m\u001b[0m\n\u001b[0m\u001b[0;32m      5 \u001b[0;31m    \u001b[0;32mif\u001b[0m \u001b[0mgain\u001b[0m \u001b[0;34m==\u001b[0m \u001b[0;36m0\u001b[0m\u001b[0;34m:\u001b[0m\u001b[0;34m\u001b[0m\u001b[0m\n\u001b[0m\nipdb> rows\n[['Red', 1, 'Grape'], ['Red', 1, 'Grape']]\nipdb> n\n> \u001b[0;32m<ipython-input-98-b1e8666dae0c>\u001b[0m(5)\u001b[0;36mbuild_tree\u001b[0;34m()\u001b[0m\n\u001b[0;32m      3 \u001b[0;31m    \u001b[0mgain\u001b[0m\u001b[0;34m,\u001b[0m \u001b[0mquestion\u001b[0m \u001b[0;34m=\u001b[0m \u001b[0mfind_best_split\u001b[0m\u001b[0;34m(\u001b[0m\u001b[0mrows\u001b[0m\u001b[0;34m)\u001b[0m\u001b[0;34m\u001b[0m\u001b[0m\n\u001b[0m\u001b[0;32m      4 \u001b[0;31m\u001b[0;34m\u001b[0m\u001b[0m\n\u001b[0m\u001b[0;32m----> 5 \u001b[0;31m    \u001b[0;32mif\u001b[0m \u001b[0mgain\u001b[0m \u001b[0;34m==\u001b[0m \u001b[0;36m0\u001b[0m\u001b[0;34m:\u001b[0m\u001b[0;34m\u001b[0m\u001b[0m\n\u001b[0m\u001b[0;32m      6 \u001b[0;31m        \u001b[0;32mreturn\u001b[0m \u001b[0mLeaf\u001b[0m\u001b[0;34m(\u001b[0m\u001b[0mrows\u001b[0m\u001b[0;34m)\u001b[0m\u001b[0;34m\u001b[0m\u001b[0m\n\u001b[0m\u001b[0;32m      7 \u001b[0;31m\u001b[0;34m\u001b[0m\u001b[0m\n\u001b[0m\nipdb> fin\n*** NameError: name 'fin' is not defined\nipdb> gain\n0\nipdb> n\n> \u001b[0;32m<ipython-input-98-b1e8666dae0c>\u001b[0m(6)\u001b[0;36mbuild_tree\u001b[0;34m()\u001b[0m\n\u001b[0;32m      4 \u001b[0;31m\u001b[0;34m\u001b[0m\u001b[0m\n\u001b[0m\u001b[0;32m      5 \u001b[0;31m    \u001b[0;32mif\u001b[0m \u001b[0mgain\u001b[0m \u001b[0;34m==\u001b[0m \u001b[0;36m0\u001b[0m\u001b[0;34m:\u001b[0m\u001b[0;34m\u001b[0m\u001b[0m\n\u001b[0m\u001b[0;32m----> 6 \u001b[0;31m        \u001b[0;32mreturn\u001b[0m \u001b[0mLeaf\u001b[0m\u001b[0;34m(\u001b[0m\u001b[0mrows\u001b[0m\u001b[0;34m)\u001b[0m\u001b[0;34m\u001b[0m\u001b[0m\n\u001b[0m\u001b[0;32m      7 \u001b[0;31m\u001b[0;34m\u001b[0m\u001b[0m\n\u001b[0m\u001b[0;32m      8 \u001b[0;31m    \u001b[0mtrue_rows\u001b[0m\u001b[0;34m,\u001b[0m \u001b[0mfalse_rows\u001b[0m \u001b[0;34m=\u001b[0m \u001b[0mpartition\u001b[0m\u001b[0;34m(\u001b[0m\u001b[0mrows\u001b[0m\u001b[0;34m,\u001b[0m \u001b[0mquestion\u001b[0m\u001b[0;34m)\u001b[0m\u001b[0;34m\u001b[0m\u001b[0m\n\u001b[0m\nipdb> n\n--Return--\n<__main__.Lea...x7f08f01a2748>\n> \u001b[0;32m<ipython-input-98-b1e8666dae0c>\u001b[0m(6)\u001b[0;36mbuild_tree\u001b[0;34m()\u001b[0m\n\u001b[0;32m      4 \u001b[0;31m\u001b[0;34m\u001b[0m\u001b[0m\n\u001b[0m\u001b[0;32m      5 \u001b[0;31m    \u001b[0;32mif\u001b[0m \u001b[0mgain\u001b[0m \u001b[0;34m==\u001b[0m \u001b[0;36m0\u001b[0m\u001b[0;34m:\u001b[0m\u001b[0;34m\u001b[0m\u001b[0m\n\u001b[0m\u001b[0;32m----> 6 \u001b[0;31m        \u001b[0;32mreturn\u001b[0m \u001b[0mLeaf\u001b[0m\u001b[0;34m(\u001b[0m\u001b[0mrows\u001b[0m\u001b[0;34m)\u001b[0m\u001b[0;34m\u001b[0m\u001b[0m\n\u001b[0m\u001b[0;32m      7 \u001b[0;31m\u001b[0;34m\u001b[0m\u001b[0m\n\u001b[0m\u001b[0;32m      8 \u001b[0;31m    \u001b[0mtrue_rows\u001b[0m\u001b[0;34m,\u001b[0m \u001b[0mfalse_rows\u001b[0m \u001b[0;34m=\u001b[0m \u001b[0mpartition\u001b[0m\u001b[0;34m(\u001b[0m\u001b[0mrows\u001b[0m\u001b[0;34m,\u001b[0m \u001b[0mquestion\u001b[0m\u001b[0;34m)\u001b[0m\u001b[0;34m\u001b[0m\u001b[0m\n\u001b[0m\n",
          "name": "stdout"
        },
        {
          "output_type": "stream",
          "name": "stdout",
          "text": "ipdb> n\n> \u001b[0;32m<ipython-input-98-b1e8666dae0c>\u001b[0m(15)\u001b[0;36mbuild_tree\u001b[0;34m()\u001b[0m\n\u001b[0;32m     12 \u001b[0;31m    \u001b[0mfalse_branch\u001b[0m \u001b[0;34m=\u001b[0m \u001b[0mbuild_tree\u001b[0m\u001b[0;34m(\u001b[0m\u001b[0mfalse_rows\u001b[0m\u001b[0;34m)\u001b[0m\u001b[0;34m\u001b[0m\u001b[0m\n\u001b[0m\u001b[0;32m     13 \u001b[0;31m\u001b[0;34m\u001b[0m\u001b[0m\n\u001b[0m\u001b[0;32m     14 \u001b[0;31m\u001b[0;34m\u001b[0m\u001b[0m\n\u001b[0m\u001b[0;32m---> 15 \u001b[0;31m    \u001b[0;32mreturn\u001b[0m \u001b[0mDecision_node\u001b[0m\u001b[0;34m(\u001b[0m\u001b[0mquestion\u001b[0m\u001b[0;34m,\u001b[0m \u001b[0mtrue_branch\u001b[0m\u001b[0;34m,\u001b[0m \u001b[0mfalse_branch\u001b[0m\u001b[0;34m)\u001b[0m\u001b[0;34m\u001b[0m\u001b[0m\n\u001b[0m\u001b[0;32m     16 \u001b[0;31m\u001b[0;34m\u001b[0m\u001b[0m\n\u001b[0m\nipdb> false_branch\n<__main__.Leaf object at 0x7f08f01a2748>\nipdb> false_branch.predictions\n{'Grape': 2}\nipdb> n\n--Return--\n<__main__.Dec...x7f08f01a2390>\n> \u001b[0;32m<ipython-input-98-b1e8666dae0c>\u001b[0m(15)\u001b[0;36mbuild_tree\u001b[0;34m()\u001b[0m\n\u001b[0;32m     12 \u001b[0;31m    \u001b[0mfalse_branch\u001b[0m \u001b[0;34m=\u001b[0m \u001b[0mbuild_tree\u001b[0m\u001b[0;34m(\u001b[0m\u001b[0mfalse_rows\u001b[0m\u001b[0;34m)\u001b[0m\u001b[0;34m\u001b[0m\u001b[0m\n\u001b[0m\u001b[0;32m     13 \u001b[0;31m\u001b[0;34m\u001b[0m\u001b[0m\n\u001b[0m\u001b[0;32m     14 \u001b[0;31m\u001b[0;34m\u001b[0m\u001b[0m\n\u001b[0m\u001b[0;32m---> 15 \u001b[0;31m    \u001b[0;32mreturn\u001b[0m \u001b[0mDecision_node\u001b[0m\u001b[0;34m(\u001b[0m\u001b[0mquestion\u001b[0m\u001b[0;34m,\u001b[0m \u001b[0mtrue_branch\u001b[0m\u001b[0;34m,\u001b[0m \u001b[0mfalse_branch\u001b[0m\u001b[0;34m)\u001b[0m\u001b[0;34m\u001b[0m\u001b[0m\n\u001b[0m\u001b[0;32m     16 \u001b[0;31m\u001b[0;34m\u001b[0m\u001b[0m\n\u001b[0m\nipdb> n\n--Return--\nNone\n> \u001b[0;32m<ipython-input-99-0f588aa76e20>\u001b[0m(1)\u001b[0;36m<module>\u001b[0;34m()\u001b[0m\n\u001b[0;32m----> 1 \u001b[0;31m\u001b[0mmy_tree\u001b[0m \u001b[0;34m=\u001b[0m \u001b[0mbuild_tree\u001b[0m\u001b[0;34m(\u001b[0m  \u001b[0mtraining_data\u001b[0m \u001b[0;34m)\u001b[0m\u001b[0;34m\u001b[0m\u001b[0m\n\u001b[0m\nipdb> c\n"
        }
      ]
    },
    {
      "metadata": {
        "trusted": true,
        "_uuid": "66577088337a3715eed85c77a9ad08381c67648c"
      },
      "cell_type": "code",
      "source": "print_tree( my_tree )",
      "execution_count": 102,
      "outputs": [
        {
          "output_type": "stream",
          "text": "Is diameter >= 3\n--> True:\n Predict {'Apple': 2}\n--> False: \n Predict {'Grape': 2}\n",
          "name": "stdout"
        }
      ]
    },
    {
      "metadata": {
        "trusted": true,
        "_uuid": "dbbdc04a85e31ad037f3cb15d496c625958273b3"
      },
      "cell_type": "code",
      "source": "training_data",
      "execution_count": 96,
      "outputs": [
        {
          "output_type": "execute_result",
          "execution_count": 96,
          "data": {
            "text/plain": "[['Green', 3, 'Apple'],\n ['Yellow', 3, 'Apple'],\n ['Red', 1, 'Grape'],\n ['Red', 1, 'Grape']]"
          },
          "metadata": {}
        }
      ]
    },
    {
      "metadata": {
        "trusted": true,
        "_uuid": "f2e00b3b940081942865414c68b5af540e65f903"
      },
      "cell_type": "code",
      "source": "",
      "execution_count": null,
      "outputs": []
    }
  ],
  "metadata": {
    "kernelspec": {
      "display_name": "Python 3",
      "language": "python",
      "name": "python3"
    },
    "language_info": {
      "name": "python",
      "version": "3.6.6",
      "mimetype": "text/x-python",
      "codemirror_mode": {
        "name": "ipython",
        "version": 3
      },
      "pygments_lexer": "ipython3",
      "nbconvert_exporter": "python",
      "file_extension": ".py"
    }
  },
  "nbformat": 4,
  "nbformat_minor": 1
}